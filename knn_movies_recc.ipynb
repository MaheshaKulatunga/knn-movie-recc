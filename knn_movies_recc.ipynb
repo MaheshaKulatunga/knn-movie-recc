{
 "cells": [
  {
   "cell_type": "code",
   "execution_count": 169,
   "metadata": {
    "collapsed": false,
    "deletable": true,
    "editable": true
   },
   "outputs": [],
   "source": [
    "######## CODE ######### \n",
    "#Import csv file reader and math package\n",
    "import csv\n",
    "import math\n",
    " \n",
    "# Open csv file \n",
    "with open('movie_rating_trainer_data.csv', 'rt') as f:\n",
    "    file = list(csv.reader(f))\n",
    "    \n",
    "    \n",
    "    #Retrieve and format data from csv file\n",
    "    def retrieveFormatData(csv_file,no_of_parameters):\n",
    "        #get list of movies\n",
    "        movies = csv_file[0];\n",
    "        movies = movies[1:-1];\n",
    "\n",
    "        #Get movies unrated by user to recommend\n",
    "        movies_to_recommend = movies[no_of_parameters:]\n",
    "\n",
    "        #get training data - list of users and their ratings \n",
    "        users_array = file[1:];\n",
    "        user_profiles = []\n",
    "        temp_movie_list = []\n",
    "        for x in range(len(users_array)):\n",
    "            temp_ratings = []\n",
    "            for y in range(len(movies_to_recommend)):\n",
    "                temp_ratings.append((movies_to_recommend[y],int(users_array[x][y+no_of_parameters+1])))\n",
    "            temp_movie_list.append(temp_ratings)\n",
    "\n",
    "        #Format user infromation into the following format: [Name, CommonMoviesWithNewUser, MoviesToRecommend]\n",
    "        #We are assuming there is a way for the system to identify what movies have and havent been watched by the new user \n",
    "        for user in range(len(users_array)):\n",
    "            user_profiles.append([users_array[user][0],\n",
    "                                  (int(users_array[user][1]),\n",
    "                                   int(users_array[user][2]),\n",
    "                                   int(users_array[user][3]),\n",
    "                                   int(users_array[user][4]),\n",
    "                                   int(users_array[user][5])),\n",
    "                                    temp_movie_list[user]]) \n",
    "    \n",
    "    \n",
    "    #Function to get euclidean distance\n",
    "    def euclideanDistance(instance1, instance2, length):\n",
    "        distance = 0\n",
    "        for x in range(length):\n",
    "            distance += pow((instance1[x] - instance2[x]), 2)\n",
    "        return math.sqrt(distance)\n",
    "    \n",
    "    \n",
    "    #Function that takes a set of training users, a new user and a value for k to generate a list of k nearest users\n",
    "    def getKNN(trainer_users,new,k):\n",
    "        temp_distance_list = [];\n",
    "        #Get list of euclidean distances to new user\n",
    "        for user in trainer_users:\n",
    "            dst = euclideanDistance(user[1], new[1], len(new[1]))\n",
    "            temp_distance_list.append((user[0],dst,user[2]))\n",
    "        #get k closest distances  \n",
    "        temp_distance_list.sort(key=lambda tup: tup[1])  \n",
    "        nearest_neighbours = temp_distance_list[0:k]\n",
    "        return (nearest_neighbours)\n",
    "    \n",
    "    \n",
    "    #Function that takes a list of k nearest neighbour users and finds 2 movie recommendations \n",
    "    def getRecMovies(knn,user_profiles,k):\n",
    "        #Average ratings for the 5 possible recommendations\n",
    "        avgs = [0] * len(knn[0][2])\n",
    "        #For each neighbour find average ratins for possible reccommentations\n",
    "        \n",
    "        for n in knn:\n",
    "            for x in range(len(n[2])):\n",
    "                avgs[x] = avgs[x] + n[2][x][1]\n",
    "        \n",
    "        recommendations = []\n",
    "        for x in range(len(movies_to_recommend)):\n",
    "            recommendations.append((movies_to_recommend[x], avgs[x]/k))\n",
    "        \n",
    "        #Return 2 top liked movies by nearest neighbour users \n",
    "        recommendations.sort(key=lambda tup: tup[1], reverse=True)  \n",
    "        recommendations = recommendations[0:2]\n",
    "\n",
    "        #Print Recommendations\n",
    "        print('1:' + recommendations[0][0])\n",
    "        print('2:' + recommendations[1][0])\n",
    "        "
   ]
  },
  {
   "cell_type": "code",
   "execution_count": 170,
   "metadata": {
    "collapsed": false,
    "deletable": true,
    "editable": true,
    "scrolled": false
   },
   "outputs": [
    {
     "name": "stdout",
     "output_type": "stream",
     "text": [
      "User's nearest neighbours:\n",
      "[('Brian', 4.47213595499958, [('Mega Mind ', 2), ('Pretty Woman', 2), ('Breakfast Club', 3), ('Die Hard', 8), ('The Terminator', 9)]), ('Anna', 7.0710678118654755, [('Mega Mind ', 6), ('Pretty Woman', 3), ('Breakfast Club', 2), ('Die Hard', 7), ('The Terminator', 8)]), ('David', 7.0710678118654755, [('Mega Mind ', 3), ('Pretty Woman', 2), ('Breakfast Club', 3), ('Die Hard', 10), ('The Terminator', 10)])]\n",
      "\n",
      "New user is recommended the following 2 movies\n",
      "1:The Terminator\n",
      "2:Die Hard\n"
     ]
    }
   ],
   "source": [
    "#Enter new user's details, ratings and a value for k (Between 1 & 5)\n",
    "Name = 'Stephan'\n",
    "DespicableMe = 4\n",
    "InAndOut = 7\n",
    "PrettyInPink = 0\n",
    "StarWars = 10\n",
    "Alien = 8\n",
    "K = 3\n",
    "\n",
    "retrieveFormatData(file,5)\n",
    "#Create new user profile\n",
    "new_user = [Name,(DespicableMe,InAndOut,PrettyInPink,StarWars,Alien)]  \n",
    "\n",
    "#Get nearest neighbours\n",
    "nearest_neighbours = getKNN(user_profiles,new_user,K)\n",
    "print(\"User's nearest neighbours:\")\n",
    "print(nearest_neighbours)\n",
    "print()\n",
    "print(\"New user is recommended the following 2 movies\")\n",
    "getRecMovies(nearest_neighbours,user_profiles,K)"
   ]
  },
  {
   "cell_type": "code",
   "execution_count": null,
   "metadata": {
    "collapsed": false,
    "deletable": true,
    "editable": true
   },
   "outputs": [],
   "source": [
    "\n"
   ]
  },
  {
   "cell_type": "code",
   "execution_count": null,
   "metadata": {
    "collapsed": true,
    "deletable": true,
    "editable": true
   },
   "outputs": [],
   "source": []
  },
  {
   "cell_type": "code",
   "execution_count": null,
   "metadata": {
    "collapsed": true,
    "deletable": true,
    "editable": true
   },
   "outputs": [],
   "source": []
  }
 ],
 "metadata": {
  "kernelspec": {
   "display_name": "Python 3",
   "language": "python",
   "name": "python3"
  },
  "language_info": {
   "codemirror_mode": {
    "name": "ipython",
    "version": 3
   },
   "file_extension": ".py",
   "mimetype": "text/x-python",
   "name": "python",
   "nbconvert_exporter": "python",
   "pygments_lexer": "ipython3",
   "version": "3.5.2"
  }
 },
 "nbformat": 4,
 "nbformat_minor": 2
}
